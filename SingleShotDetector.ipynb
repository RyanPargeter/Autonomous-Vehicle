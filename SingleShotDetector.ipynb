{
 "cells": [
  {
   "cell_type": "code",
   "execution_count": 14,
   "metadata": {},
   "outputs": [],
   "source": [
    "import numpy as np\n",
    "import argparse\n",
    "import cv2\n",
    "from imutils.video import VideoStream\n",
    "from imutils.video import FPS\n",
    "import time\n",
    "import imutils\n",
    "from scipy.spatial import distance\n",
    "from typing import NamedTuple\n",
    "import collections"
   ]
  },
  {
   "cell_type": "code",
   "execution_count": 15,
   "metadata": {},
   "outputs": [],
   "source": [
    "CLASSES = [\"background\", \"aeroplane\", \"bicycle\", \"bird\", \"boat\",\n",
    "\t\"bottle\", \"bus\", \"car\", \"cat\", \"chair\", \"cow\", \"diningtable\",\n",
    "\t\"dog\", \"horse\", \"motorbike\", \"person\", \"pottedplant\", \"sheep\",\n",
    "\t\"sofa\", \"train\", \"tvmonitor\"]\n",
    "COLORS = np.random.uniform(0, 255, size=(len(CLASSES), 3))"
   ]
  },
  {
   "cell_type": "code",
   "execution_count": 16,
   "metadata": {},
   "outputs": [],
   "source": [
    "net = cv2.dnn.readNetFromCaffe('SingleShotDetector/MobileNetSSD_deploy.prototxt.txt', 'SingleShotDetector/MobileNetSSD_deploy.caffemodel')"
   ]
  },
  {
   "cell_type": "code",
   "execution_count": 17,
   "metadata": {},
   "outputs": [],
   "source": [
    "class Object(NamedTuple):\n",
    "    name: str\n",
    "    centroidx: float\n",
    "    centroidy: float\n",
    "    startX: float\n",
    "    startY: float\n",
    "    endX: float\n",
    "    endY: float\n",
    "    dissapeared: int\n",
    "        \n",
    "    def setDissapeared(self, disp):\n",
    "        dissapeared = disp"
   ]
  },
  {
   "cell_type": "code",
   "execution_count": 18,
   "metadata": {},
   "outputs": [
    {
     "name": "stdout",
     "output_type": "stream",
     "text": [
      "[INFO] starting video stream...\n"
     ]
    }
   ],
   "source": [
    "print(\"[INFO] starting video stream...\")\n",
    "vs = VideoStream(src=0).start()\n",
    "time.sleep(2.0)\n",
    "fps = FPS().start()"
   ]
  },
  {
   "cell_type": "code",
   "execution_count": 19,
   "metadata": {},
   "outputs": [],
   "source": [
    "def getBoundingBoxes(detections):\n",
    "\n",
    "    new_objects = []\n",
    "\n",
    "    # loop over the detections\n",
    "    for i in np.arange(0, detections.shape[2]):\n",
    "\n",
    "        # extract the confidence (i.e., probability) associated with the\n",
    "        # prediction\n",
    "        confidence = detections[0, 0, i, 2]\n",
    "\n",
    "        # filter out weak detections by ensuring the `confidence` is\n",
    "        # greater than the minimum confidence\n",
    "        if confidence > 0.8:\n",
    "            # extract the index of the class label from the `detections`,\n",
    "            # then compute the (x, y)-coordinates of the bounding box for\n",
    "            # the object\n",
    "            idx = int(detections[0, 0, i, 1])\n",
    "            box = detections[0, 0, i, 3:7] * np.array([w, h, w, h])\n",
    "            (startX, startY, endX, endY) = box.astype(\"int\")\n",
    "            \n",
    "            \n",
    "            x_centre = (box.astype(\"int\")[0] + box.astype(\"int\")[2]/2).astype(\"int\")\n",
    "            y_centre = (box.astype(\"int\")[1] + box.astype(\"int\")[3]/2).astype(\"int\")   \n",
    "\n",
    "            if y_centre >= 300:\n",
    "                y_centre = 299\n",
    "            if x_centre >= 400:\n",
    "                x_centre = 399\n",
    "            new_objects.append(Object(CLASSES[idx], x_centre, y_centre, startX, startY, endX, endY,0))\n",
    "    return new_objects"
   ]
  },
  {
   "cell_type": "code",
   "execution_count": 20,
   "metadata": {},
   "outputs": [],
   "source": [
    "def trackAllObjects(objectId,old_objects,new_objects):\n",
    "    for x in range(len(new_objects)):\n",
    "        old_objects[objectId] = new_objects[x]\n",
    "        objectId += 1\n",
    "    return objectId,old_objects,new_objects"
   ]
  },
  {
   "cell_type": "code",
   "execution_count": 21,
   "metadata": {},
   "outputs": [],
   "source": [
    "def extractCentroids(old_objects, new_objects):\n",
    "    old_centroids = []\n",
    "    for x in old_objects:\n",
    "        old_centroids.append([old_objects[x][1],old_objects[x][2]])\n",
    "\n",
    "    new_centroids = []\n",
    "    for x in new_objects:\n",
    "        new_centroids.append([x[1],x[2]])\n",
    "        \n",
    "    return old_centroids, new_centroids"
   ]
  },
  {
   "cell_type": "code",
   "execution_count": 22,
   "metadata": {},
   "outputs": [],
   "source": [
    "def updateExistingObjectLocations(old_idx, new_idx, lst_objectIDs, old_objects, new_objects, dist):\n",
    "    usedRows = set()\n",
    "    usedCols = set()\n",
    "\n",
    "    for (row, col) in zip(old_idx, new_idx):\n",
    "        if row not in usedRows and col not in usedCols:\n",
    "            obj_id = lst_objectIDs[row]\n",
    "            old_objects[obj_id] = new_objects[col]\n",
    "            old_objects[obj_id] = old_objects[obj_id]._replace(dissapeared=0)\n",
    "\n",
    "            usedRows.add(row)\n",
    "            usedCols.add(col)\n",
    "\n",
    "    unusedRows = set(range(0, dist.shape[0])).difference(usedRows)\n",
    "    unusedCols = set(range(0, dist.shape[1])).difference(usedCols)\n",
    "    \n",
    "    return old_objects, unusedRows, unusedCols"
   ]
  },
  {
   "cell_type": "code",
   "execution_count": 23,
   "metadata": {},
   "outputs": [],
   "source": [
    "def dealWithDissapearedObjects(unusedRows, lst_objectIDs, old_objects):\n",
    "    \n",
    "    for row in unusedRows:\n",
    "\n",
    "        obj_id = lst_objectIDs[row]\n",
    "        dissapearance_val = old_objects[obj_id][7]\n",
    "        old_objects[obj_id] = old_objects[obj_id]._replace(dissapeared=dissapearance_val + 1)\n",
    "\n",
    "\n",
    "        if old_objects[obj_id][7] > 50:\n",
    "            del old_objects[obj_id]\n",
    "            \n",
    "    return old_objects\n",
    "        "
   ]
  },
  {
   "cell_type": "code",
   "execution_count": 24,
   "metadata": {},
   "outputs": [],
   "source": [
    "def trackNewObjects(unusedCols, old_objects, new_objects, objectId):\n",
    "    for col in unusedCols:\n",
    "        old_objects[objectId] = new_objects[col]\n",
    "        objectId += 1\n",
    "        \n",
    "    return old_objects, new_objects, objectId"
   ]
  },
  {
   "cell_type": "code",
   "execution_count": 25,
   "metadata": {},
   "outputs": [],
   "source": [
    "def trackObjects(objectId,old_objects,new_objects):\n",
    "    if len(old_objects) == 0 :\n",
    "        \n",
    "        objectId,old_objects,new_objects = trackAllObjects(objectId,old_objects,new_objects)\n",
    "        \n",
    "    else:\n",
    "        if len(new_objects) > 0:\n",
    "            \n",
    "            lst_objectIDs = list(old_objects.keys())\n",
    "            \n",
    "            old_centroids, new_centroids = extractCentroids(old_objects, new_objects)\n",
    "\n",
    "            dist = distance.cdist(np.asarray(old_centroids), np.asarray(new_centroids))\n",
    "\n",
    "            old_idx = dist.min(axis=1).argsort()\n",
    "            new_idx = dist.argmin(axis=1)[old_idx]\n",
    "\n",
    "            old_objects, unusedRows, unusedCols = updateExistingObjectLocations(old_idx, new_idx, lst_objectIDs, old_objects, new_objects, dist)\n",
    "            \n",
    "            if dist.shape[0] >= dist.shape[1]:\n",
    "\n",
    "                old_objects = dealWithDissapearedObjects(unusedRows, lst_objectIDs, old_objects)\n",
    "\n",
    "\n",
    "            else:\n",
    "                \n",
    "                old_objects, new_objects, objectId = trackNewObjects(unusedCols, old_objects, new_objects, objectId)  \n",
    "                    \n",
    "    return objectId,old_objects,new_objects\n",
    "            "
   ]
  },
  {
   "cell_type": "code",
   "execution_count": 26,
   "metadata": {},
   "outputs": [
    {
     "name": "stdout",
     "output_type": "stream",
     "text": [
      "[INFO] approx. FPS: 19.02\n"
     ]
    }
   ],
   "source": [
    "objectId = 0\n",
    "old_objects = collections.OrderedDict()\n",
    "while True:\n",
    "    \n",
    "    frame = vs.read()\n",
    "\n",
    "    frame = imutils.resize(frame, width=400)\n",
    "\n",
    "    (h, w) = frame.shape[:2]\n",
    "    blob = cv2.dnn.blobFromImage(cv2.resize(frame, (300, 300)), 0.007843, (300, 300), 127.5)\n",
    "\n",
    "    net.setInput(blob)\n",
    "    detections = net.forward()\n",
    "    \n",
    "    new_objects = getBoundingBoxes(detections)\n",
    "    \n",
    "    objectId, old_objects,new_objects = trackObjects(objectId,old_objects,new_objects)    \n",
    "               \n",
    "                    \n",
    "    \n",
    "    for obj in old_objects:\n",
    "        if old_objects[obj][7] == 0:\n",
    "            # display the prediction\n",
    "            label = \"{},{}\".format(old_objects[obj][0], obj)\n",
    "            cv2.rectangle(frame, (old_objects[obj][3], old_objects[obj][4]), (old_objects[obj][5], old_objects[obj][6]),\n",
    "                COLORS[obj], 2)\n",
    "            y = old_objects[obj][4] - 15 if old_objects[obj][4] - 15 > 15 else old_objects[obj][4] + 15\n",
    "            cv2.putText(frame, label, (old_objects[obj][3], y),\n",
    "                cv2.FONT_HERSHEY_SIMPLEX, 0.5, COLORS[obj], 2)\n",
    "\n",
    "    \n",
    "    \n",
    "    cv2.imshow(\"Frame\", frame)\n",
    "    key = cv2.waitKey(1) & 0xFF\n",
    "    # if the `q` key was pressed, break from the loop\n",
    "    if key == ord(\"q\"):\n",
    "        break\n",
    "    # update the FPS counter\n",
    "    fps.update()\n",
    "    \n",
    "    \n",
    "    new_centroid = [] \n",
    "\n",
    "    \n",
    "# stop the timer and display FPS information\n",
    "vs.stop()\n",
    "fps.stop()\n",
    "print(\"[INFO] approx. FPS: {:.2f}\".format(fps.fps()))\n",
    "# do a bit of cleanup\n",
    "cv2.destroyAllWindows()\n"
   ]
  },
  {
   "cell_type": "code",
   "execution_count": null,
   "metadata": {},
   "outputs": [],
   "source": [
    "old_objects"
   ]
  },
  {
   "cell_type": "code",
   "execution_count": null,
   "metadata": {},
   "outputs": [],
   "source": [
    "onj._setDissapeared(0)"
   ]
  },
  {
   "cell_type": "code",
   "execution_count": null,
   "metadata": {},
   "outputs": [],
   "source": [
    "old_objects[obj_id] = old_objects[obj_id]._replace(dissapeared=8)"
   ]
  },
  {
   "cell_type": "code",
   "execution_count": null,
   "metadata": {},
   "outputs": [],
   "source": [
    "old_objects[obj_id]"
   ]
  },
  {
   "cell_type": "code",
   "execution_count": null,
   "metadata": {},
   "outputs": [],
   "source": [
    "l = collections.OrderedDict()"
   ]
  },
  {
   "cell_type": "code",
   "execution_count": null,
   "metadata": {},
   "outputs": [],
   "source": [
    "l[0] = \"fudger\"\n",
    "l[10] = \"flabajaba\""
   ]
  },
  {
   "cell_type": "code",
   "execution_count": null,
   "metadata": {},
   "outputs": [],
   "source": [
    "l.get(0)"
   ]
  },
  {
   "cell_type": "code",
   "execution_count": null,
   "metadata": {},
   "outputs": [],
   "source": [
    "for x in l:\n",
    "    print(x)\n",
    "    print(l[x])"
   ]
  },
  {
   "cell_type": "code",
   "execution_count": null,
   "metadata": {},
   "outputs": [],
   "source": []
  }
 ],
 "metadata": {
  "kernelspec": {
   "display_name": "Python 3",
   "language": "python",
   "name": "python3"
  },
  "language_info": {
   "codemirror_mode": {
    "name": "ipython",
    "version": 3
   },
   "file_extension": ".py",
   "mimetype": "text/x-python",
   "name": "python",
   "nbconvert_exporter": "python",
   "pygments_lexer": "ipython3",
   "version": "3.7.8"
  }
 },
 "nbformat": 4,
 "nbformat_minor": 4
}
