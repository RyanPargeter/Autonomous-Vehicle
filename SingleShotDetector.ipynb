{
 "cells": [
  {
   "cell_type": "code",
   "execution_count": null,
   "metadata": {},
   "outputs": [],
   "source": [
    "import numpy as np\n",
    "import argparse\n",
    "import cv2\n",
    "from imutils.video import VideoStream\n",
    "from imutils.video import FPS\n",
    "import time\n",
    "import imutils\n",
    "from scipy.spatial import distance\n",
    "from typing import NamedTuple"
   ]
  },
  {
   "cell_type": "code",
   "execution_count": null,
   "metadata": {},
   "outputs": [],
   "source": [
    "CLASSES = [\"background\", \"aeroplane\", \"bicycle\", \"bird\", \"boat\",\n",
    "\t\"bottle\", \"bus\", \"car\", \"cat\", \"chair\", \"cow\", \"diningtable\",\n",
    "\t\"dog\", \"horse\", \"motorbike\", \"person\", \"pottedplant\", \"sheep\",\n",
    "\t\"sofa\", \"train\", \"tvmonitor\"]\n",
    "COLORS = np.random.uniform(0, 255, size=(len(CLASSES), 3))"
   ]
  },
  {
   "cell_type": "code",
   "execution_count": null,
   "metadata": {},
   "outputs": [],
   "source": [
    "net = cv2.dnn.readNetFromCaffe('SingleShotDetector/MobileNetSSD_deploy.prototxt.txt', 'SingleShotDetector/MobileNetSSD_deploy.caffemodel')"
   ]
  },
  {
   "cell_type": "code",
   "execution_count": null,
   "metadata": {},
   "outputs": [],
   "source": [
    "print(\"[INFO] starting video stream...\")\n",
    "vs = VideoStream(src=0).start()\n",
    "time.sleep(2.0)\n",
    "fps = FPS().start()"
   ]
  },
  {
   "cell_type": "code",
   "execution_count": null,
   "metadata": {},
   "outputs": [],
   "source": [
    "class Object(NamedTuple):\n",
    "    name: str\n",
    "    centroidx: float\n",
    "    centroidy: float\n",
    "    startX: float\n",
    "    startY: float\n",
    "    endX: float\n",
    "    endY: float"
   ]
  },
  {
   "cell_type": "code",
   "execution_count": null,
   "metadata": {},
   "outputs": [],
   "source": [
    "old_objects = []\n",
    "while True:\n",
    "    \n",
    "    frame = vs.read()\n",
    "\n",
    "    frame = imutils.resize(frame, width=400)\n",
    "\n",
    "    (h, w) = frame.shape[:2]\n",
    "    blob = cv2.dnn.blobFromImage(cv2.resize(frame, (300, 300)), 0.007843, (300, 300), 127.5)\n",
    "\n",
    "    net.setInput(blob)\n",
    "    detections = net.forward()\n",
    "    \n",
    "    new_objects = []\n",
    "\n",
    "    # loop over the detections\n",
    "    for i in np.arange(0, detections.shape[2]):\n",
    "\n",
    "        # extract the confidence (i.e., probability) associated with the\n",
    "        # prediction\n",
    "        confidence = detections[0, 0, i, 2]\n",
    "\n",
    "        # filter out weak detections by ensuring the `confidence` is\n",
    "        # greater than the minimum confidence\n",
    "        if confidence > 0.8:\n",
    "            # extract the index of the class label from the `detections`,\n",
    "            # then compute the (x, y)-coordinates of the bounding box for\n",
    "            # the object\n",
    "            idx = int(detections[0, 0, i, 1])\n",
    "            box = detections[0, 0, i, 3:7] * np.array([w, h, w, h])\n",
    "            (startX, startY, endX, endY) = box.astype(\"int\")\n",
    "            \n",
    "            \n",
    "            x_centre = (box.astype(\"int\")[0] + box.astype(\"int\")[2]/2).astype(\"int\")\n",
    "            y_centre = (box.astype(\"int\")[1] + box.astype(\"int\")[3]/2).astype(\"int\")   \n",
    "\n",
    "            if y_centre >= 300:\n",
    "                y_centre = 299\n",
    "            if x_centre >= 400:\n",
    "                x_centre = 399\n",
    "       \n",
    "            new_objects.append(Object(CLASSES[idx], x_centre, y_centre, startX, startY, endX, endY))\n",
    "            \n",
    "    if len(old_objects) == 0 :\n",
    "        old_objects = new_objects\n",
    "    else:\n",
    "        if len(new_objects) > 0:\n",
    "            new_centroids = []\n",
    "            for x in new_objects:\n",
    "                new_centroids.append([x[1],x[2]])\n",
    "\n",
    "            old_centroids = []\n",
    "            for x in old_objects:\n",
    "                old_centroids.append([x[1],x[2]])\n",
    "\n",
    "            dist = distance.cdist(np.asarray(old_centroids), np.asarray(new_centroids))\n",
    "\n",
    "            old_idx = dist.min(axis=1).argsort()\n",
    "            new_idx = dist.argmin(axis=1)[old_idx]\n",
    "\n",
    "\n",
    "            for (row, col) in zip(old_idx, new_idx):\n",
    "                old_objects[row] = new_objects[col]\n",
    "\n",
    "    \n",
    "    for obj in range(len(new_objects)):\n",
    "        # display the prediction\n",
    "        label = \"{},{}\".format(new_objects[obj][0], obj)\n",
    "        cv2.rectangle(frame, (new_objects[obj][3], new_objects[obj][4]), (new_objects[obj][5], new_objects[obj][6]),\n",
    "            COLORS[obj], 2)\n",
    "        y = new_objects[obj][4] - 15 if new_objects[obj][4] - 15 > 15 else new_objects[obj][4] + 15\n",
    "        cv2.putText(frame, label, (new_objects[obj][3], y),\n",
    "            cv2.FONT_HERSHEY_SIMPLEX, 0.5, COLORS[idx], 2)\n",
    "\n",
    "    \n",
    "    \n",
    "    cv2.imshow(\"Frame\", frame)\n",
    "    key = cv2.waitKey(1) & 0xFF\n",
    "    # if the `q` key was pressed, break from the loop\n",
    "    if key == ord(\"q\"):\n",
    "        break\n",
    "    # update the FPS counter\n",
    "    fps.update()\n",
    "    \n",
    "    \n",
    "    new_centroid = [] \n",
    "\n",
    "    \n",
    "# stop the timer and display FPS information\n",
    "fps.stop()\n",
    "print(\"[INFO] approx. FPS: {:.2f}\".format(fps.fps()))\n",
    "# do a bit of cleanup\n",
    "cv2.destroyAllWindows()\n",
    "vs.stop()"
   ]
  },
  {
   "cell_type": "code",
   "execution_count": null,
   "metadata": {},
   "outputs": [],
   "source": [
    "new_objects"
   ]
  },
  {
   "cell_type": "code",
   "execution_count": null,
   "metadata": {},
   "outputs": [],
   "source": [
    "old_objects"
   ]
  },
  {
   "cell_type": "code",
   "execution_count": null,
   "metadata": {},
   "outputs": [],
   "source": [
    "new_centroids = []\n",
    "for x in new_objects:\n",
    "    new_centroids.append([x[1],x[2]])"
   ]
  },
  {
   "cell_type": "code",
   "execution_count": null,
   "metadata": {},
   "outputs": [],
   "source": [
    "old_centroids = []\n",
    "for x in old_objects:\n",
    "    old_centroids.append([x[1],x[2]])"
   ]
  },
  {
   "cell_type": "code",
   "execution_count": null,
   "metadata": {},
   "outputs": [],
   "source": [
    "np.asarray(old_centroids)"
   ]
  },
  {
   "cell_type": "code",
   "execution_count": null,
   "metadata": {},
   "outputs": [],
   "source": [
    "np.asarray(new_centroids)"
   ]
  },
  {
   "cell_type": "code",
   "execution_count": null,
   "metadata": {},
   "outputs": [],
   "source": [
    "D = distance.cdist(np.asarray(old_centroids), np.asarray(new_centroids))"
   ]
  },
  {
   "cell_type": "code",
   "execution_count": null,
   "metadata": {},
   "outputs": [],
   "source": [
    "rows = D.min(axis=1).argsort()\n",
    "\n",
    "# next, we perform a similar process on the columns by\n",
    "# finding the smallest value in each column and then\n",
    "# sorting using the previously computed row index list\n",
    "cols = D.argmin(axis=1)[rows]"
   ]
  },
  {
   "cell_type": "code",
   "execution_count": null,
   "metadata": {},
   "outputs": [],
   "source": [
    "for (row, col) in zip(rows, cols):\n",
    "    print(old_objects[row])\n",
    "    print(new_objects[col])"
   ]
  },
  {
   "cell_type": "code",
   "execution_count": null,
   "metadata": {},
   "outputs": [],
   "source": [
    "rows[0]"
   ]
  },
  {
   "cell_type": "code",
   "execution_count": null,
   "metadata": {},
   "outputs": [],
   "source": [
    "D"
   ]
  },
  {
   "cell_type": "code",
   "execution_count": null,
   "metadata": {},
   "outputs": [],
   "source": [
    "cols[0]"
   ]
  },
  {
   "cell_type": "code",
   "execution_count": null,
   "metadata": {},
   "outputs": [],
   "source": []
  }
 ],
 "metadata": {
  "kernelspec": {
   "display_name": "Python 3",
   "language": "python",
   "name": "python3"
  },
  "language_info": {
   "codemirror_mode": {
    "name": "ipython",
    "version": 3
   },
   "file_extension": ".py",
   "mimetype": "text/x-python",
   "name": "python",
   "nbconvert_exporter": "python",
   "pygments_lexer": "ipython3",
   "version": "3.7.5"
  }
 },
 "nbformat": 4,
 "nbformat_minor": 4
}
