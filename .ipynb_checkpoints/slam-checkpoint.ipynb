{
 "cells": [
  {
   "cell_type": "code",
   "execution_count": 1,
   "metadata": {},
   "outputs": [],
   "source": [
    "import numpy as np\n",
    "import argparse\n",
    "import cv2\n",
    "from imutils.video import VideoStream\n",
    "from imutils.video import FPS\n",
    "import time\n",
    "import imutils\n",
    "from scipy.spatial import distance\n",
    "from typing import NamedTuple\n",
    "import collections\n",
    "from matplotlib import pyplot as plt\n",
    "import os\n",
    "from mpl_toolkits import mplot3d\n",
    "import math\n",
    "%matplotlib inline"
   ]
  },
  {
   "cell_type": "code",
   "execution_count": 2,
   "metadata": {},
   "outputs": [],
   "source": [
    "CLASSES = [\"background\", \"aeroplane\", \"bicycle\", \"bird\", \"boat\",\n",
    "\t\"bottle\", \"bus\", \"car\", \"cat\", \"chair\", \"cow\", \"diningtable\",\n",
    "\t\"dog\", \"horse\", \"motorbike\", \"person\", \"pottedplant\", \"sheep\",\n",
    "\t\"sofa\", \"train\", \"tvmonitor\"]\n",
    "COLORS = np.random.uniform(0, 255, size=(len(CLASSES), 3))"
   ]
  },
  {
   "cell_type": "code",
   "execution_count": 3,
   "metadata": {},
   "outputs": [],
   "source": [
    "net = cv2.dnn.readNetFromCaffe('SingleShotDetector/MobileNetSSD_deploy.prototxt.txt', 'SingleShotDetector/MobileNetSSD_deploy.caffemodel')"
   ]
  },
  {
   "cell_type": "code",
   "execution_count": 4,
   "metadata": {},
   "outputs": [],
   "source": [
    "class Object(NamedTuple):\n",
    "    name: str\n",
    "    centroidx: float\n",
    "    centroidy: float\n",
    "    startX: float\n",
    "    startY: float\n",
    "    endX: float\n",
    "    endY: float\n",
    "    dissapeared: int\n",
    "        \n",
    "    def setDissapeared(self, disp):\n",
    "        dissapeared = disp"
   ]
  },
  {
   "cell_type": "code",
   "execution_count": 5,
   "metadata": {},
   "outputs": [],
   "source": [
    "# print(\"[INFO] starting video stream...\")\n",
    "# vs = VideoStream(src=0).start()\n",
    "# time.sleep(2.0)\n",
    "# fps = FPS().start()"
   ]
  },
  {
   "cell_type": "code",
   "execution_count": 6,
   "metadata": {},
   "outputs": [],
   "source": [
    "def getBoundingBoxes(detections):\n",
    "\n",
    "    new_objects = []\n",
    "\n",
    "    # loop over the detections\n",
    "    for i in np.arange(0, detections.shape[2]):\n",
    "\n",
    "        # extract the confidence (i.e., probability) associated with the\n",
    "        # prediction\n",
    "        confidence = detections[0, 0, i, 2]\n",
    "\n",
    "        # filter out weak detections by ensuring the `confidence` is\n",
    "        # greater than the minimum confidence\n",
    "        if confidence > 0.8:\n",
    "            # extract the index of the class label from the `detections`,\n",
    "            # then compute the (x, y)-coordinates of the bounding box for\n",
    "            # the object\n",
    "            idx = int(detections[0, 0, i, 1])\n",
    "            box = detections[0, 0, i, 3:7] * np.array([w, h, w, h])\n",
    "            (startX, startY, endX, endY) = box.astype(\"int\")\n",
    "            \n",
    "            \n",
    "            x_centre = (box.astype(\"int\")[0] + box.astype(\"int\")[2]/2).astype(\"int\")\n",
    "            y_centre = (box.astype(\"int\")[1] + box.astype(\"int\")[3]/2).astype(\"int\")   \n",
    "\n",
    "            if y_centre >= 300:\n",
    "                y_centre = 299\n",
    "            if x_centre >= 400:\n",
    "                x_centre = 399\n",
    "            new_objects.append(Object(CLASSES[idx], x_centre, y_centre, startX, startY, endX, endY,0))\n",
    "    return new_objects"
   ]
  },
  {
   "cell_type": "code",
   "execution_count": 7,
   "metadata": {},
   "outputs": [],
   "source": [
    "def trackAllObjects(objectId,old_objects,new_objects):\n",
    "    for x in range(len(new_objects)):\n",
    "        old_objects[objectId] = new_objects[x]\n",
    "        objectId += 1\n",
    "    return objectId,old_objects,new_objects"
   ]
  },
  {
   "cell_type": "code",
   "execution_count": 8,
   "metadata": {},
   "outputs": [],
   "source": [
    "def extractCentroids(old_objects, new_objects):\n",
    "    old_centroids = []\n",
    "    for x in old_objects:\n",
    "        old_centroids.append([old_objects[x][1],old_objects[x][2]])\n",
    "\n",
    "    new_centroids = []\n",
    "    for x in new_objects:\n",
    "        new_centroids.append([x[1],x[2]])\n",
    "        \n",
    "    return old_centroids, new_centroids"
   ]
  },
  {
   "cell_type": "code",
   "execution_count": 9,
   "metadata": {},
   "outputs": [],
   "source": [
    "def updateExistingObjectLocations(old_idx, new_idx, lst_objectIDs, old_objects, new_objects, dist):\n",
    "    usedRows = set()\n",
    "    usedCols = set()\n",
    "\n",
    "    for (row, col) in zip(old_idx, new_idx):\n",
    "        if row not in usedRows and col not in usedCols:\n",
    "            obj_id = lst_objectIDs[row]\n",
    "            old_objects[obj_id] = new_objects[col]\n",
    "            old_objects[obj_id] = old_objects[obj_id]._replace(dissapeared=0)\n",
    "            usedRows.add(row)\n",
    "            usedCols.add(col)\n",
    "\n",
    "    unusedRows = set(range(0, dist.shape[0])).difference(usedRows)\n",
    "    unusedCols = set(range(0, dist.shape[1])).difference(usedCols)\n",
    "    \n",
    "    \n",
    "    \n",
    "   \n",
    "    \n",
    "    for index in sorted(new_idx, reverse=True):\n",
    "        if len(new_objects) > 0:\n",
    "            del new_objects[index]\n",
    "    \n",
    "    return old_objects, unusedRows, unusedCols, new_objects"
   ]
  },
  {
   "cell_type": "code",
   "execution_count": 10,
   "metadata": {},
   "outputs": [],
   "source": [
    "def dealWithDissapearedObjects(unusedRows, lst_objectIDs, old_objects):\n",
    "    \n",
    "    for row in unusedRows:\n",
    "\n",
    "        obj_id = lst_objectIDs[row]\n",
    "        dissapearance_val = old_objects[obj_id][7]\n",
    "        old_objects[obj_id] = old_objects[obj_id]._replace(dissapeared=dissapearance_val + 1)\n",
    "\n",
    "\n",
    "        if old_objects[obj_id][7] > 50:\n",
    "            del old_objects[obj_id]\n",
    "            \n",
    "    return old_objects\n",
    "        "
   ]
  },
  {
   "cell_type": "code",
   "execution_count": 11,
   "metadata": {},
   "outputs": [],
   "source": [
    "def trackNewObjects(unusedCols, old_objects, new_objects, objectId):\n",
    "    for col in unusedCols:\n",
    "        old_objects[objectId] = new_objects[col]\n",
    "        objectId += 1\n",
    "        \n",
    "    return old_objects, new_objects, objectId"
   ]
  },
  {
   "cell_type": "code",
   "execution_count": 12,
   "metadata": {},
   "outputs": [],
   "source": [
    "def trackObjects(objectId,old_objects,new_objects):\n",
    "    if len(old_objects) == 0 :\n",
    "        \n",
    "        objectId,old_objects,new_objects = trackAllObjects(objectId,old_objects,new_objects)\n",
    "        \n",
    "    else:\n",
    "        if len(new_objects) > 0:\n",
    "            \n",
    "            lst_objectIDs = list(old_objects.keys())\n",
    "            \n",
    "            old_centroids, new_centroids = extractCentroids(old_objects, new_objects)\n",
    "\n",
    "            dist = distance.cdist(np.asarray(old_centroids), np.asarray(new_centroids))\n",
    "\n",
    "            old_idx = dist.min(axis=1).argsort()\n",
    "            new_idx = dist.argmin(axis=1)[old_idx]\n",
    "\n",
    "            old_objects, unusedRows, unusedCols, new_objects = updateExistingObjectLocations(old_idx, new_idx, lst_objectIDs, old_objects, new_objects, dist)\n",
    "            \n",
    "            if dist.shape[0] >= dist.shape[1]:\n",
    "\n",
    "                old_objects = dealWithDissapearedObjects(unusedRows, lst_objectIDs, old_objects)\n",
    "\n",
    "\n",
    "            else:\n",
    "                \n",
    "                old_objects, new_objects, objectId = trackNewObjects(unusedCols, old_objects, new_objects, objectId)  \n",
    "                    \n",
    "    return objectId,old_objects,new_objects\n",
    "            "
   ]
  },
  {
   "cell_type": "code",
   "execution_count": 13,
   "metadata": {},
   "outputs": [],
   "source": [
    "def fromFrame(r, p_r):\n",
    "    t = r[0:2]\n",
    "    a = r[2]\n",
    "\n",
    "    \n",
    "    R = np.array([[math.cos(a), -math.sin(a)], [math.sin(a), math.cos(a)]])\n",
    "\n",
    "    p = R@p_r + t\n",
    "\n",
    "    px = p_r[0][0]\n",
    "    py = p_r[1][0]\n",
    "\n",
    "    P_r = np.array([np.hstack(([1, 0], -py*math.cos(a) -px*math.sin(a))), np.hstack((0, 1,   px*math.cos(a) -py*math.sin(a)))])\n",
    "    \n",
    "    P_pr = R\n",
    "    \n",
    "    return p, P_r, P_pr"
   ]
  },
  {
   "cell_type": "code",
   "execution_count": 14,
   "metadata": {},
   "outputs": [],
   "source": [
    "def robotMove(r, u):\n",
    "    \n",
    "    a = r[2]\n",
    "    dx = u[0]\n",
    "    da = u[1]\n",
    "    \n",
    "    ao = a + da\n",
    "    dp = np.array([[dx], [0]]) # maybe transpose or make into rows?\n",
    "    \n",
    "    if ao > math.pi:\n",
    "        ao = ao - 2*math.pi\n",
    "    if ao < -math.pi:\n",
    "        ao = ao + 2*math.pi\n",
    "        \n",
    "    to, TO_r, TO_dp = fromFrame(r, dp)\n",
    "    AO_a = 1\n",
    "    AO_da = 1\n",
    "    \n",
    "    RO_r = np.vstack((TO_r,[0, 0, AO_a]))\n",
    "    RO_n = np.vstack((np.vstack((TO_dp[:,0], np.zeros([1,2]))) , [0, AO_da]))\n",
    "    ro = np.vstack((to,ao)) \n",
    "\n",
    "    return ro, RO_r, RO_n\n",
    "\n",
    "    "
   ]
  },
  {
   "cell_type": "code",
   "execution_count": 15,
   "metadata": {},
   "outputs": [],
   "source": [
    "def toFrame(r, p):\n",
    "    \n",
    "    t = r[0:2]\n",
    "    a = r[2]\n",
    "\n",
    "    R = np.array([[math.cos(a), -math.sin(a)], [math.sin(a), math.cos(a)]])\n",
    "\n",
    "    p_r = R.conj().T @ (p - t)\n",
    "    \n",
    "    \n",
    "    px = p[0]\n",
    "    py = p[1]\n",
    "    x = t[0]\n",
    "    y = t[1]\n",
    "    \n",
    "    PR_r = np.array([np.hstack(([-math.cos(a), -math.sin(a)],   math.cos(a)*(py - y) - math.sin(a)*(px - x))), \n",
    "                      np.hstack(([math.sin(a), -math.cos(a)], - math.cos(a)*(px - x) - math.sin(a)*(py - y)))])\n",
    "    \n",
    "    PR_p = R.conj().T\n",
    "    \n",
    "    \n",
    "    \n",
    "    return p_r, PR_r, PR_p"
   ]
  },
  {
   "cell_type": "code",
   "execution_count": 16,
   "metadata": {},
   "outputs": [],
   "source": [
    "def scan(x):\n",
    "    \n",
    "    px = x[0]\n",
    "    py = x[1]\n",
    "    \n",
    "    d = math.sqrt(math.pow(px,2) + math.pow(py,2))\n",
    "    a = math.atan2(py, px)\n",
    "    \n",
    "    y = np.array([[d], [a]])\n",
    "    \n",
    "    Y_x = np.vstack((np.hstack((px/math.pow((math.pow(px,2)+ math.pow(py,2)),(1/2)), py/math.pow((math.pow(px,2) + math.pow(py,2)),(1/2)))),\n",
    "                   np.hstack((-py/(math.pow(px,2)*(math.pow(py,2)/math.pow(px,2) + 1)), 1/(px*(math.pow(py,2)/math.pow(px,2) + 1))))))\n",
    "    \n",
    "    return y, Y_x"
   ]
  },
  {
   "cell_type": "code",
   "execution_count": 17,
   "metadata": {},
   "outputs": [],
   "source": [
    "def project(r, p):\n",
    "    \n",
    "    p_r, PR_r, PR_p = toFrame(r, p)\n",
    "    y, Y_pr = scan(p_r)\n",
    "    \n",
    "    # chain rule\n",
    "    Y_r = Y_pr @ PR_r\n",
    "    Y_p = Y_pr @ PR_p\n",
    "    \n",
    "    return y, Y_r, Y_p"
   ]
  },
  {
   "cell_type": "code",
   "execution_count": 18,
   "metadata": {},
   "outputs": [],
   "source": [
    "def invScan(y):\n",
    "    \n",
    "    d = y[0]\n",
    "    a = y[1]\n",
    "    \n",
    "    px = d * math.cos(a)\n",
    "    py = d* math.sin(a)\n",
    "  \n",
    "    p = np.vstack((px,py))\n",
    "    \n",
    "    P_y = np.vstack((np.hstack(([math.cos(a)], -d*math.sin(a))), np.hstack(([math.sin(a)], d*math.cos(a)))))\n",
    "    \n",
    "    return p, P_y\n",
    "\n"
   ]
  },
  {
   "cell_type": "code",
   "execution_count": 19,
   "metadata": {},
   "outputs": [],
   "source": [
    "def backProject(r, y):\n",
    "    \n",
    "    p_r, PR_y = invScan(y)\n",
    "    p, P_r, P_pr = fromFrame(r, p_r)\n",
    "    \n",
    "    \n",
    "    P_y = P_pr @ PR_y \n",
    "    \n",
    "    return p[0], p[1], P_r, P_y\n"
   ]
  },
  {
   "cell_type": "code",
   "execution_count": 20,
   "metadata": {},
   "outputs": [
    {
     "ename": "NameError",
     "evalue": "name 'x' is not defined",
     "output_type": "error",
     "traceback": [
      "\u001b[1;31m---------------------------------------------------------------------------\u001b[0m",
      "\u001b[1;31mNameError\u001b[0m                                 Traceback (most recent call last)",
      "\u001b[1;32m<ipython-input-20-6660f0ecb779>\u001b[0m in \u001b[0;36m<module>\u001b[1;34m\u001b[0m\n\u001b[1;32m----> 1\u001b[1;33m \u001b[0mP\u001b[0m \u001b[1;33m=\u001b[0m \u001b[0mnp\u001b[0m\u001b[1;33m.\u001b[0m\u001b[0mzeros\u001b[0m\u001b[1;33m(\u001b[0m\u001b[1;33m[\u001b[0m\u001b[0mnp\u001b[0m\u001b[1;33m.\u001b[0m\u001b[0msize\u001b[0m\u001b[1;33m(\u001b[0m\u001b[0mx\u001b[0m\u001b[1;33m)\u001b[0m\u001b[1;33m,\u001b[0m \u001b[0mnp\u001b[0m\u001b[1;33m.\u001b[0m\u001b[0msize\u001b[0m\u001b[1;33m(\u001b[0m\u001b[0mx\u001b[0m\u001b[1;33m)\u001b[0m\u001b[1;33m]\u001b[0m\u001b[1;33m)\u001b[0m\u001b[1;33m\u001b[0m\u001b[1;33m\u001b[0m\u001b[0m\n\u001b[0m\u001b[0;32m      2\u001b[0m \u001b[0mP\u001b[0m\u001b[1;33m[\u001b[0m\u001b[0mr\u001b[0m\u001b[1;33m[\u001b[0m\u001b[1;33m:\u001b[0m\u001b[1;33m,\u001b[0m \u001b[0mnp\u001b[0m\u001b[1;33m.\u001b[0m\u001b[0mnewaxis\u001b[0m\u001b[1;33m]\u001b[0m\u001b[1;33m,\u001b[0m\u001b[0mr\u001b[0m\u001b[1;33m]\u001b[0m \u001b[1;33m=\u001b[0m \u001b[1;36m0\u001b[0m\u001b[1;33m\u001b[0m\u001b[1;33m\u001b[0m\u001b[0m\n\u001b[0;32m      3\u001b[0m \u001b[1;33m\u001b[0m\u001b[0m\n\u001b[0;32m      4\u001b[0m \u001b[0mx\u001b[0m\u001b[1;33m[\u001b[0m\u001b[0mr\u001b[0m\u001b[1;33m]\u001b[0m\u001b[1;33m,\u001b[0m \u001b[0mR_r\u001b[0m\u001b[1;33m,\u001b[0m \u001b[0mR_n\u001b[0m \u001b[1;33m=\u001b[0m \u001b[0mrobotMove\u001b[0m\u001b[1;33m(\u001b[0m\u001b[0mx\u001b[0m\u001b[1;33m[\u001b[0m\u001b[0mr\u001b[0m\u001b[1;33m]\u001b[0m\u001b[1;33m,\u001b[0m \u001b[0mu\u001b[0m\u001b[1;33m)\u001b[0m \u001b[1;31m# might need to add noise here at some point dunno\u001b[0m\u001b[1;33m\u001b[0m\u001b[1;33m\u001b[0m\u001b[0m\n\u001b[0;32m      5\u001b[0m \u001b[1;33m\u001b[0m\u001b[0m\n",
      "\u001b[1;31mNameError\u001b[0m: name 'x' is not defined"
     ]
    }
   ],
   "source": [
    "\n",
    "P = np.zeros([np.size(x), np.size(x)])\n",
    "P[r[:, np.newaxis],r] = 0\n",
    "\n",
    "x[r], R_r, R_n = robotMove(x[r], u) # might need to add noise here at some point dunno\n",
    "\n",
    "P_rr = P[r[:, np.newaxis],r] # no idea if there is a better way\n",
    "P[r,:] = R_r@P[r,:]\n",
    "P[:,r] = P[r,:].conj().T\n",
    "P[r[:, np.newaxis],r] = R_r @ P_rr @ R_r.conj().T + R_n @ Q @ R_n.conj().T"
   ]
  },
  {
   "cell_type": "code",
   "execution_count": 89,
   "metadata": {},
   "outputs": [],
   "source": [
    "x[int(idx[0])], x[int(idx[1])], L_r, L_y = backProject(x[r], yi)"
   ]
  },
  {
   "cell_type": "code",
   "execution_count": 90,
   "metadata": {},
   "outputs": [
    {
     "data": {
      "text/plain": [
       "array([[  1.,   0.,  -0.],\n",
       "       [  0.,   1., 294.]])"
      ]
     },
     "execution_count": 90,
     "metadata": {},
     "output_type": "execute_result"
    }
   ],
   "source": [
    "L_r"
   ]
  },
  {
   "cell_type": "code",
   "execution_count": 91,
   "metadata": {},
   "outputs": [],
   "source": [
    "\n"
   ]
  },
  {
   "cell_type": "code",
   "execution_count": 88,
   "metadata": {},
   "outputs": [
    {
     "data": {
      "text/plain": [
       "array([[0.0001, 0.    , 0.    , ..., 0.    , 0.    , 0.    ],\n",
       "       [0.    , 0.    , 0.    , ..., 0.    , 0.    , 0.    ],\n",
       "       [0.    , 0.    , 0.0001, ..., 0.    , 0.    , 0.    ],\n",
       "       ...,\n",
       "       [0.    , 0.    , 0.    , ..., 0.    , 0.    , 0.    ],\n",
       "       [0.    , 0.    , 0.    , ..., 0.    , 0.    , 0.    ],\n",
       "       [0.    , 0.    , 0.    , ..., 0.    , 0.    , 0.    ]])"
      ]
     },
     "execution_count": 88,
     "metadata": {},
     "output_type": "execute_result"
    }
   ],
   "source": [
    "P"
   ]
  },
  {
   "cell_type": "code",
   "execution_count": 105,
   "metadata": {},
   "outputs": [],
   "source": []
  },
  {
   "cell_type": "code",
   "execution_count": 103,
   "metadata": {},
   "outputs": [
    {
     "data": {
      "text/plain": [
       "array([[0., 0.],\n",
       "       [0., 0.]])"
      ]
     },
     "execution_count": 103,
     "metadata": {},
     "output_type": "execute_result"
    }
   ],
   "source": [
    "P[s[:, np.newaxis],s]"
   ]
  },
  {
   "cell_type": "code",
   "execution_count": 102,
   "metadata": {},
   "outputs": [],
   "source": [
    "s = np.array(s)"
   ]
  },
  {
   "cell_type": "code",
   "execution_count": 195,
   "metadata": {},
   "outputs": [
    {
     "name": "stderr",
     "output_type": "stream",
     "text": [
      "<ipython-input-14-b801a231f35c>:8: VisibleDeprecationWarning: Creating an ndarray from ragged nested sequences (which is a list-or-tuple of lists-or-tuples-or ndarrays with different lengths or shapes) is deprecated. If you meant to do this, you must specify 'dtype=object' when creating the ndarray\n",
      "  dp = np.array([[dx], [0]]) # maybe transpose or make into rows?\n"
     ]
    },
    {
     "data": {
      "image/png": "[encoded data removed]",
      "text/plain": [
       "<Figure size 432x288 with 1 Axes>"
      ]
     },
     "metadata": {
      "needs_background": "light"
     },
     "output_type": "display_data"
    },
    {
     "data": {
      "text/plain": [
       "<Figure size 432x288 with 0 Axes>"
      ]
     },
     "metadata": {},
     "output_type": "display_data"
    },
    {
     "data": {
      "text/plain": [
       "<Figure size 432x288 with 0 Axes>"
      ]
     },
     "metadata": {},
     "output_type": "display_data"
    },
    {
     "data": {
      "text/plain": [
       "<Figure size 432x288 with 0 Axes>"
      ]
     },
     "metadata": {},
     "output_type": "display_data"
    },
    {
     "data": {
      "text/plain": [
       "<Figure size 432x288 with 0 Axes>"
      ]
     },
     "metadata": {},
     "output_type": "display_data"
    },
    {
     "data": {
      "text/plain": [
       "<Figure size 432x288 with 0 Axes>"
      ]
     },
     "metadata": {},
     "output_type": "display_data"
    },
    {
     "data": {
      "text/plain": [
       "<Figure size 432x288 with 0 Axes>"
      ]
     },
     "metadata": {},
     "output_type": "display_data"
    },
    {
     "data": {
      "text/plain": [
       "<Figure size 432x288 with 0 Axes>"
      ]
     },
     "metadata": {},
     "output_type": "display_data"
    },
    {
     "data": {
      "text/plain": [
       "<Figure size 432x288 with 0 Axes>"
      ]
     },
     "metadata": {},
     "output_type": "display_data"
    },
    {
     "data": {
      "text/plain": [
       "<Figure size 432x288 with 0 Axes>"
      ]
     },
     "metadata": {},
     "output_type": "display_data"
    },
    {
     "data": {
      "text/plain": [
       "<Figure size 432x288 with 0 Axes>"
      ]
     },
     "metadata": {},
     "output_type": "display_data"
    },
    {
     "data": {
      "text/plain": [
       "<Figure size 432x288 with 0 Axes>"
      ]
     },
     "metadata": {},
     "output_type": "display_data"
    },
    {
     "data": {
      "text/plain": [
       "<Figure size 432x288 with 0 Axes>"
      ]
     },
     "metadata": {},
     "output_type": "display_data"
    },
    {
     "data": {
      "text/plain": [
       "<Figure size 432x288 with 0 Axes>"
      ]
     },
     "metadata": {},
     "output_type": "display_data"
    },
    {
     "data": {
      "text/plain": [
       "<Figure size 432x288 with 0 Axes>"
      ]
     },
     "metadata": {},
     "output_type": "display_data"
    },
    {
     "data": {
      "text/plain": [
       "<Figure size 432x288 with 0 Axes>"
      ]
     },
     "metadata": {},
     "output_type": "display_data"
    },
    {
     "data": {
      "text/plain": [
       "<Figure size 432x288 with 0 Axes>"
      ]
     },
     "metadata": {},
     "output_type": "display_data"
    },
    {
     "data": {
      "text/plain": [
       "<Figure size 432x288 with 0 Axes>"
      ]
     },
     "metadata": {},
     "output_type": "display_data"
    },
    {
     "data": {
      "text/plain": [
       "<Figure size 432x288 with 0 Axes>"
      ]
     },
     "metadata": {},
     "output_type": "display_data"
    },
    {
     "data": {
      "text/plain": [
       "<Figure size 432x288 with 0 Axes>"
      ]
     },
     "metadata": {},
     "output_type": "display_data"
    },
    {
     "data": {
      "text/plain": [
       "<Figure size 432x288 with 0 Axes>"
      ]
     },
     "metadata": {},
     "output_type": "display_data"
    },
    {
     "data": {
      "text/plain": [
       "<Figure size 432x288 with 0 Axes>"
      ]
     },
     "metadata": {},
     "output_type": "display_data"
    },
    {
     "data": {
      "text/plain": [
       "<Figure size 432x288 with 0 Axes>"
      ]
     },
     "metadata": {},
     "output_type": "display_data"
    },
    {
     "data": {
      "text/plain": [
       "<Figure size 432x288 with 0 Axes>"
      ]
     },
     "metadata": {},
     "output_type": "display_data"
    },
    {
     "data": {
      "text/plain": [
       "<Figure size 432x288 with 0 Axes>"
      ]
     },
     "metadata": {},
     "output_type": "display_data"
    },
    {
     "data": {
      "text/plain": [
       "<Figure size 432x288 with 0 Axes>"
      ]
     },
     "metadata": {},
     "output_type": "display_data"
    },
    {
     "data": {
      "text/plain": [
       "<Figure size 432x288 with 0 Axes>"
      ]
     },
     "metadata": {},
     "output_type": "display_data"
    },
    {
     "data": {
      "text/plain": [
       "<Figure size 432x288 with 0 Axes>"
      ]
     },
     "metadata": {},
     "output_type": "display_data"
    },
    {
     "data": {
      "text/plain": [
       "<Figure size 432x288 with 0 Axes>"
      ]
     },
     "metadata": {},
     "output_type": "display_data"
    },
    {
     "data": {
      "text/plain": [
       "<Figure size 432x288 with 0 Axes>"
      ]
     },
     "metadata": {},
     "output_type": "display_data"
    },
    {
     "data": {
      "text/plain": [
       "<Figure size 432x288 with 0 Axes>"
      ]
     },
     "metadata": {},
     "output_type": "display_data"
    },
    {
     "data": {
      "text/plain": [
       "<Figure size 432x288 with 0 Axes>"
      ]
     },
     "metadata": {},
     "output_type": "display_data"
    },
    {
     "data": {
      "text/plain": [
       "<Figure size 432x288 with 0 Axes>"
      ]
     },
     "metadata": {},
     "output_type": "display_data"
    },
    {
     "data": {
      "text/plain": [
       "<Figure size 432x288 with 0 Axes>"
      ]
     },
     "metadata": {},
     "output_type": "display_data"
    },
    {
     "data": {
      "text/plain": [
       "<Figure size 432x288 with 0 Axes>"
      ]
     },
     "metadata": {},
     "output_type": "display_data"
    },
    {
     "data": {
      "text/plain": [
       "<Figure size 432x288 with 0 Axes>"
      ]
     },
     "metadata": {},
     "output_type": "display_data"
    },
    {
     "data": {
      "text/plain": [
       "<Figure size 432x288 with 0 Axes>"
      ]
     },
     "metadata": {},
     "output_type": "display_data"
    },
    {
     "data": {
      "text/plain": [
       "<Figure size 432x288 with 0 Axes>"
      ]
     },
     "metadata": {},
     "output_type": "display_data"
    },
    {
     "data": {
      "text/plain": [
       "<Figure size 432x288 with 0 Axes>"
      ]
     },
     "metadata": {},
     "output_type": "display_data"
    },
    {
     "data": {
      "text/plain": [
       "<Figure size 432x288 with 0 Axes>"
      ]
     },
     "metadata": {},
     "output_type": "display_data"
    },
    {
     "data": {
      "text/plain": [
       "<Figure size 432x288 with 0 Axes>"
      ]
     },
     "metadata": {},
     "output_type": "display_data"
    },
    {
     "ename": "KeyboardInterrupt",
     "evalue": "",
     "output_type": "error",
     "traceback": [
      "\u001b[1;31m---------------------------------------------------------------------------\u001b[0m",
      "\u001b[1;31mKeyboardInterrupt\u001b[0m                         Traceback (most recent call last)",
      "\u001b[1;32m<ipython-input-195-3f823127f4f5>\u001b[0m in \u001b[0;36m<module>\u001b[1;34m\u001b[0m\n\u001b[0;32m    260\u001b[0m         \u001b[0manimated_plot\u001b[0m\u001b[1;33m.\u001b[0m\u001b[0mset_ydata\u001b[0m\u001b[1;33m(\u001b[0m\u001b[0mx\u001b[0m\u001b[1;33m[\u001b[0m\u001b[0mint\u001b[0m\u001b[1;33m(\u001b[0m\u001b[0mly\u001b[0m\u001b[1;33m[\u001b[0m\u001b[1;36m0\u001b[0m\u001b[1;33m]\u001b[0m\u001b[1;33m[\u001b[0m\u001b[0mlid\u001b[0m\u001b[1;33m]\u001b[0m\u001b[1;33m)\u001b[0m\u001b[1;33m]\u001b[0m\u001b[1;33m)\u001b[0m\u001b[1;33m\u001b[0m\u001b[1;33m\u001b[0m\u001b[0m\n\u001b[0;32m    261\u001b[0m         \u001b[0mplt\u001b[0m\u001b[1;33m.\u001b[0m\u001b[0mdraw\u001b[0m\u001b[1;33m(\u001b[0m\u001b[1;33m)\u001b[0m\u001b[1;33m\u001b[0m\u001b[1;33m\u001b[0m\u001b[0m\n\u001b[1;32m--> 262\u001b[1;33m         \u001b[0mplt\u001b[0m\u001b[1;33m.\u001b[0m\u001b[0mpause\u001b[0m\u001b[1;33m(\u001b[0m\u001b[1;36m0.1\u001b[0m\u001b[1;33m)\u001b[0m\u001b[1;33m\u001b[0m\u001b[1;33m\u001b[0m\u001b[0m\n\u001b[0m\u001b[0;32m    263\u001b[0m \u001b[1;33m\u001b[0m\u001b[0m\n\u001b[0;32m    264\u001b[0m \u001b[1;33m\u001b[0m\u001b[0m\n",
      "\u001b[1;32mc:\\users\\rparg\\appdata\\local\\programs\\python\\python38-32\\lib\\site-packages\\matplotlib\\pyplot.py\u001b[0m in \u001b[0;36mpause\u001b[1;34m(interval)\u001b[0m\n\u001b[0;32m    419\u001b[0m             \u001b[0mcanvas\u001b[0m\u001b[1;33m.\u001b[0m\u001b[0mdraw_idle\u001b[0m\u001b[1;33m(\u001b[0m\u001b[1;33m)\u001b[0m\u001b[1;33m\u001b[0m\u001b[1;33m\u001b[0m\u001b[0m\n\u001b[0;32m    420\u001b[0m         \u001b[0mshow\u001b[0m\u001b[1;33m(\u001b[0m\u001b[0mblock\u001b[0m\u001b[1;33m=\u001b[0m\u001b[1;32mFalse\u001b[0m\u001b[1;33m)\u001b[0m\u001b[1;33m\u001b[0m\u001b[1;33m\u001b[0m\u001b[0m\n\u001b[1;32m--> 421\u001b[1;33m         \u001b[0mcanvas\u001b[0m\u001b[1;33m.\u001b[0m\u001b[0mstart_event_loop\u001b[0m\u001b[1;33m(\u001b[0m\u001b[0minterval\u001b[0m\u001b[1;33m)\u001b[0m\u001b[1;33m\u001b[0m\u001b[1;33m\u001b[0m\u001b[0m\n\u001b[0m\u001b[0;32m    422\u001b[0m     \u001b[1;32melse\u001b[0m\u001b[1;33m:\u001b[0m\u001b[1;33m\u001b[0m\u001b[1;33m\u001b[0m\u001b[0m\n\u001b[0;32m    423\u001b[0m         \u001b[0mtime\u001b[0m\u001b[1;33m.\u001b[0m\u001b[0msleep\u001b[0m\u001b[1;33m(\u001b[0m\u001b[0minterval\u001b[0m\u001b[1;33m)\u001b[0m\u001b[1;33m\u001b[0m\u001b[1;33m\u001b[0m\u001b[0m\n",
      "\u001b[1;32mc:\\users\\rparg\\appdata\\local\\programs\\python\\python38-32\\lib\\site-packages\\matplotlib\\backend_bases.py\u001b[0m in \u001b[0;36mstart_event_loop\u001b[1;34m(self, timeout)\u001b[0m\n\u001b[0;32m   2406\u001b[0m         \u001b[1;32mwhile\u001b[0m \u001b[0mself\u001b[0m\u001b[1;33m.\u001b[0m\u001b[0m_looping\u001b[0m \u001b[1;32mand\u001b[0m \u001b[0mcounter\u001b[0m \u001b[1;33m*\u001b[0m \u001b[0mtimestep\u001b[0m \u001b[1;33m<\u001b[0m \u001b[0mtimeout\u001b[0m\u001b[1;33m:\u001b[0m\u001b[1;33m\u001b[0m\u001b[1;33m\u001b[0m\u001b[0m\n\u001b[0;32m   2407\u001b[0m             \u001b[0mself\u001b[0m\u001b[1;33m.\u001b[0m\u001b[0mflush_events\u001b[0m\u001b[1;33m(\u001b[0m\u001b[1;33m)\u001b[0m\u001b[1;33m\u001b[0m\u001b[1;33m\u001b[0m\u001b[0m\n\u001b[1;32m-> 2408\u001b[1;33m             \u001b[0mtime\u001b[0m\u001b[1;33m.\u001b[0m\u001b[0msleep\u001b[0m\u001b[1;33m(\u001b[0m\u001b[0mtimestep\u001b[0m\u001b[1;33m)\u001b[0m\u001b[1;33m\u001b[0m\u001b[1;33m\u001b[0m\u001b[0m\n\u001b[0m\u001b[0;32m   2409\u001b[0m             \u001b[0mcounter\u001b[0m \u001b[1;33m+=\u001b[0m \u001b[1;36m1\u001b[0m\u001b[1;33m\u001b[0m\u001b[1;33m\u001b[0m\u001b[0m\n\u001b[0;32m   2410\u001b[0m \u001b[1;33m\u001b[0m\u001b[0m\n",
      "\u001b[1;31mKeyboardInterrupt\u001b[0m: "
     ]
    }
   ],
   "source": [
    "objectId = 0\n",
    "old_objects = collections.OrderedDict()\n",
    "\n",
    "# SLAM variables\n",
    "#initialization\n",
    "\n",
    "#noise\n",
    "q = np.array([0.0100, 0.0100])\n",
    "Q = np.diag(q**2)\n",
    "\n",
    "m = np.array([.25, 2*math.pi/180])\n",
    "M = np.diag(m ** 2)\n",
    "\n",
    "R = np.array([[0],[0],[0]])\n",
    "u = np.array([[0.5], [0.00001]])\n",
    "\n",
    "#initialize a landmark array\n",
    "\n",
    "y = np.zeros([2, 52])\n",
    "\n",
    "# estimator\n",
    "\n",
    "robotSize = 3\n",
    "x = np.zeros([robotSize + np.size(y), 1])\n",
    "P = np.zeros([np.size(x), np.size(x)])\n",
    "\n",
    "mapspace = np.arange(1,np.size(x))\n",
    "l = np.zeros([2, np.size(y)])\n",
    "\n",
    "r = np.nonzero(mapspace)[0][0:3]\n",
    "mapspace[r] = 0\n",
    "x[r] = R\n",
    "\n",
    "P[r[:, np.newaxis],r] = 0\n",
    "\n",
    "\n",
    "\n",
    "#back to normal shit\n",
    "\n",
    "vsLeft = cv2.VideoCapture('videos/left.avi')\n",
    "vsRight = cv2.VideoCapture('videos/right.avi')\n",
    "\n",
    "\n",
    "plt.ion() # turn interactive mode on\n",
    "animated_plot = plt.plot([] ,[], 'ro')[0]\n",
    "\n",
    "# lft_folder = 'left'\n",
    "# rt_folder = 'right'\n",
    "\n",
    "# video_name = 'video.avi'\n",
    "\n",
    "# left_img = [img for img in os.listdir(lft_folder) if img.endswith(\".png\")]\n",
    "# right_img = [img for img in os.listdir(rt_folder) if img.endswith(\".png\")]\n",
    "\n",
    "stereo = cv2.StereoBM_create(numDisparities=112, blockSize=15)\n",
    "\n",
    "\n",
    "image = 0\n",
    "cunt = 0\n",
    "while True:  \n",
    "    \n",
    "    \n",
    "        \n",
    "    (grabbed, frame) = vsLeft.read()\n",
    "    (grabbed, frame1) = vsRight.read()\n",
    "    \n",
    "    if not grabbed:\n",
    "        break\n",
    "    \n",
    "#     frame = vs.read()\n",
    "\n",
    "#     lftFrame = cv2.imread(os.path.join(lft_folder, left_img[image]))\n",
    "#     rtFrame = cv2.imread(os.path.join(rt_folder, right_img[image]))\n",
    "#     image += 1\n",
    "    \n",
    "    \n",
    "    frame = imutils.resize(frame, width=400)\n",
    "    frame1 = imutils.resize(frame1, width=400)\n",
    "\n",
    "\n",
    "    (h, w) = frame.shape[:2]\n",
    "    blob = cv2.dnn.blobFromImage(cv2.resize(frame, (300, 300)), 0.007843, (300, 300), 127.5)\n",
    "\n",
    "    net.setInput(blob)\n",
    "    detections = net.forward()\n",
    "    \n",
    "    new_objects = getBoundingBoxes(detections)\n",
    "    \n",
    "    objectId, old_objects,new_objects = trackObjects(objectId,old_objects,new_objects)    \n",
    "      \n",
    "        \n",
    "    \n",
    "    right = cv2.cvtColor(frame, cv2.COLOR_BGR2GRAY) \n",
    "    left = cv2.cvtColor(frame1, cv2.COLOR_BGR2GRAY)\n",
    "\n",
    "    \n",
    "    disparity = stereo.compute(left, right)\n",
    "    disparity = cv2.normalize(disparity, None, alpha = 0, beta = 1, norm_type=cv2.NORM_MINMAX, dtype=cv2.CV_32F)\n",
    "\n",
    "\n",
    "    h, w = disparity.shape\n",
    "    f = 0.1*w                          # guess for focal length\n",
    "    silly = np.float32([[1, 0,  0, w / 2],\n",
    "                    [0, -1,  0,  h / 2],  # turn points 180 deg around x-axis,\n",
    "                    [0, 0, f,  0],  # so that y-axis looks up\n",
    "                    [0, 0,  0,  1]])\n",
    "    \n",
    "    real_points = cv2.reprojectImageTo3D(disparity, silly)\n",
    "\n",
    "    \n",
    "\n",
    "#     fig = plt.figure()\n",
    "#     ax = plt.axes()\n",
    "#     ax.set_xlabel('x')\n",
    "#     ax.set_ylabel('y')\n",
    "#    # ax.set_zlabel('z')\n",
    "    \n",
    "#     ax.scatter( 0,0,marker='s')\n",
    "\n",
    "    \n",
    "#     for obj in old_objects:\n",
    "#         xarr = []\n",
    "#         yarr = []\n",
    "#         zarr = []\n",
    "#         if old_objects[obj][0] == 'bottle':\n",
    "            \n",
    "#             for y in range(old_objects[obj][3], old_objects[obj][5]):\n",
    "#                 for x in range(old_objects[obj][4], old_objects[obj][6]):\n",
    "#                     realxyz = real_points[x,y]\n",
    "#                     xarr.append(realxyz[0])\n",
    "#                     yarr.append(realxyz[1])\n",
    "#                     zarr.append(realxyz[2])\n",
    "\n",
    "\n",
    "#             #work out average and use for plotting\n",
    "\n",
    "# #             ax.scatter(sum(zarr) / len(zarr), old_objects[obj][1])\n",
    "# #             print(sum(zarr) / len(zarr))\n",
    "# #             print(old_objects[obj][1])\n",
    "\n",
    "\n",
    "#         if old_objects[obj][7] == 0:\n",
    "#             # display the prediction\n",
    "#             label = \"{},{}\".format(old_objects[obj][0], obj)\n",
    "#             cv2.rectangle(frame, (old_objects[obj][3], old_objects[obj][4]), (old_objects[obj][5], old_objects[obj][6]),\n",
    "#                 COLORS[obj], 2)\n",
    "#             y = old_objects[obj][4] - 15 if old_objects[obj][4] - 15 > 15 else old_objects[obj][4] + 15\n",
    "#             cv2.putText(frame, label, (old_objects[obj][3], y),\n",
    "#                 cv2.FONT_HERSHEY_SIMPLEX, 0.5, COLORS[obj], 2)\n",
    "    \n",
    "    \n",
    "    \n",
    "    \n",
    "    \n",
    "    \n",
    "    \n",
    "    # robot movement\n",
    "    ## Prediction\n",
    "    x[r], R_r, R_n = robotMove(x[r], u) # might need to add noise here at some point dunno\n",
    "    \n",
    "    P_rr = P[r[:, np.newaxis],r] # no idea if there is a better way\n",
    "    P[r,:] = R_r@P[r,:]\n",
    "    P[:,r] = P[r,:].conj().T\n",
    "    P[r[:, np.newaxis],r] = R_r @ P_rr @ R_r.conj().T + R_n @ Q @ R_n.conj().T\n",
    "    \n",
    "    \n",
    "    # deal with known landmarks\n",
    "    if len(np.nonzero(l[0,:])[0]) > 1:\n",
    "        for lid in old_objects:\n",
    "            if old_objects[lid][7] == 0:\n",
    "                \n",
    "                # The expected measrment\n",
    "                \n",
    "                e, E_r, E_l = project(x[r], np.vstack((x[int(l[:, lid-1][0])], x[int(l[:, lid-1][1])])))\n",
    "\n",
    "                \n",
    "                \n",
    "                E_rl = np.hstack((E_r, E_l))\n",
    "                rl = np.hstack((r, l[:,lid-1].conj().T))\n",
    "                rl = rl.astype(int)\n",
    "                E = E_rl @ P[rl[:, np.newaxis],rl] @ E_rl.conj().T\n",
    "                \n",
    "                \n",
    "                \n",
    "                # The actual measurment\n",
    "                pnts = real_points[old_objects[lid][1], old_objects[lid][2]]\n",
    "                yi = np.array([[pnts[0]], [pnts[2]]])\n",
    "                # need to project first\n",
    "                yi,tmp1,tmp2 = project(x[r], yi)\n",
    "                \n",
    "                # Innovation\n",
    "                \n",
    "                z = yi - e\n",
    "                \n",
    "#                 if z[1] > math.pi:\n",
    "#                     z[1] = z[1] - 2*math.pi\n",
    "#                 if z[1] < -math.pi:\n",
    "#                     z[1] = z[1] + 2*math.pi\n",
    "                    \n",
    "                Z = M + E\n",
    "        \n",
    "                \n",
    "                \n",
    "                # Kalman Gain\n",
    "                \n",
    "                K = P[:, rl] @ E_rl.conj().T @ np.nan_to_num(pow(Z,-1))\n",
    "                \n",
    "                # Update\n",
    "                \n",
    "                x = x + K @ z\n",
    "                P = P - K @ Z @ K.conj().T\n",
    "                \n",
    "                \n",
    "                \n",
    "                \n",
    "    \n",
    "    # initialize new landmarks\n",
    "    if len(new_objects) > 0:\n",
    "        tmp = np.nonzero(l[1,:] == 0)[0] \n",
    "\n",
    "        if len(tmp) > 0:\n",
    "            lid = tmp[0]\n",
    "            emptyMapSpaces = np.nonzero(mapspace)\n",
    "            if len(emptyMapSpaces[0]) > 1:\n",
    "                s = np.array([emptyMapSpaces[0][0], emptyMapSpaces[0][1]])\n",
    "                if len(s) > 1:\n",
    "                    mapspace[s] = 0\n",
    "                    l[:,lid] = s.conj().T\n",
    "\n",
    "\n",
    "                # Measurment\n",
    "                \n",
    "                    \n",
    "                    pnts = real_points[new_objects[0][1], new_objects[0][2]]\n",
    "                    yi = np.array([[pnts[0]], [pnts[2]]])\n",
    "                    #nned to project first\n",
    "\n",
    "                    yi,tmp1,tmp2 = project(x[r], yi)\n",
    "\n",
    "\n",
    "                    idx = l[:,lid]\n",
    "                    x[int(idx[0])], x[int(idx[1])], L_r, L_y = backProject(x[r], yi)\n",
    "\n",
    "                    P[s,:] = L_r @ P[r,:]\n",
    "                    P[:,s] = np.array(P[s,:]).conj().T\n",
    "                    P[s[:, np.newaxis],s] = L_r @ P[r[:, np.newaxis],r] @ L_r.conj().T + L_y @ M @ L_y.conj().T\n",
    "\n",
    "                    del new_objects[0]\n",
    "\n",
    "            \n",
    "    \n",
    "    \n",
    "    \n",
    "    idx = np.nonzero(l[0,:])\n",
    "    lx = l[0,idx]\n",
    "    ly = l[1,idx]\n",
    "    \n",
    "    for lid in range(len(lx[0])):\n",
    "        animated_plot.set_xdata(x[int(lx[0][lid])])\n",
    "        animated_plot.set_ydata(x[int(ly[0][lid])])\n",
    "        plt.draw()\n",
    "        plt.pause(0.1)\n",
    "    \n",
    "\n",
    "    plt.show()\n",
    "\n",
    "    \n",
    "    #update robot position\n",
    "    \n",
    "    \n",
    "    cv2.imshow(\"Frame\", frame)\n",
    "    key = cv2.waitKey(1) & 0xFF\n",
    "    # if the `q` key was pressed, break from the loop\n",
    "    if key == ord(\"q\"):\n",
    "        break\n",
    "    # update the FPS counter\n",
    "#     fps.update()\n",
    "    \n",
    "    \n",
    "    new_centroid = [] \n",
    "\n",
    "    \n",
    "# stop the timer and display FPS information\n",
    "vsLeft.release()\n",
    "vsRight.release()\n",
    "    # fps.stop()\n",
    "#print(\"[INFO] approx. FPS: {:.2f}\".format(fps.fps()))\n",
    "# do a bit of cleanup\n",
    "cv2.destroyAllWindows()\n"
   ]
  },
  {
   "cell_type": "code",
   "execution_count": 185,
   "metadata": {},
   "outputs": [],
   "source": [
    "idx = np.nonzero(l[0,:])\n",
    "lx = l[0,idx]\n",
    "ly = l[1,idx]"
   ]
  },
  {
   "cell_type": "code",
   "execution_count": 192,
   "metadata": {},
   "outputs": [
    {
     "name": "stdout",
     "output_type": "stream",
     "text": [
      "[-7.17906594]\n",
      "[218.20993358]\n"
     ]
    }
   ],
   "source": [
    "for p in range(len(lx[0])):\n",
    "    print(x[int(ly[0][p])])"
   ]
  },
  {
   "cell_type": "code",
   "execution_count": 190,
   "metadata": {},
   "outputs": [
    {
     "data": {
      "text/plain": [
       "array([[4., 6.]])"
      ]
     },
     "execution_count": 190,
     "metadata": {},
     "output_type": "execute_result"
    }
   ],
   "source": [
    "l"
   ]
  },
  {
   "cell_type": "code",
   "execution_count": 193,
   "metadata": {},
   "outputs": [
    {
     "data": {
      "text/plain": [
       "array([[ 7.11427691e+01],\n",
       "       [ 7.05977749e+03],\n",
       "       [ 5.85244898e-01],\n",
       "       [ 4.38262027e+00],\n",
       "       [-7.17906594e+00],\n",
       "       [ 4.12589434e+02],\n",
       "       [ 2.18209934e+02],\n",
       "       [ 0.00000000e+00],\n",
       "       [ 0.00000000e+00],\n",
       "       [ 0.00000000e+00],\n",
       "       [ 0.00000000e+00],\n",
       "       [ 0.00000000e+00],\n",
       "       [ 0.00000000e+00],\n",
       "       [ 0.00000000e+00],\n",
       "       [ 0.00000000e+00],\n",
       "       [ 0.00000000e+00],\n",
       "       [ 0.00000000e+00],\n",
       "       [ 0.00000000e+00],\n",
       "       [ 0.00000000e+00],\n",
       "       [ 0.00000000e+00],\n",
       "       [ 0.00000000e+00],\n",
       "       [ 0.00000000e+00],\n",
       "       [ 0.00000000e+00],\n",
       "       [ 0.00000000e+00],\n",
       "       [ 0.00000000e+00],\n",
       "       [ 0.00000000e+00],\n",
       "       [ 0.00000000e+00],\n",
       "       [ 0.00000000e+00],\n",
       "       [ 0.00000000e+00],\n",
       "       [ 0.00000000e+00],\n",
       "       [ 0.00000000e+00],\n",
       "       [ 0.00000000e+00],\n",
       "       [ 0.00000000e+00],\n",
       "       [ 0.00000000e+00],\n",
       "       [ 0.00000000e+00],\n",
       "       [ 0.00000000e+00],\n",
       "       [ 0.00000000e+00],\n",
       "       [ 0.00000000e+00],\n",
       "       [ 0.00000000e+00],\n",
       "       [ 0.00000000e+00],\n",
       "       [ 0.00000000e+00],\n",
       "       [ 0.00000000e+00],\n",
       "       [ 0.00000000e+00],\n",
       "       [ 0.00000000e+00],\n",
       "       [ 0.00000000e+00],\n",
       "       [ 0.00000000e+00],\n",
       "       [ 0.00000000e+00],\n",
       "       [ 0.00000000e+00],\n",
       "       [ 0.00000000e+00],\n",
       "       [ 0.00000000e+00],\n",
       "       [ 0.00000000e+00],\n",
       "       [ 0.00000000e+00],\n",
       "       [ 0.00000000e+00],\n",
       "       [ 0.00000000e+00],\n",
       "       [ 0.00000000e+00],\n",
       "       [ 0.00000000e+00],\n",
       "       [ 0.00000000e+00],\n",
       "       [ 0.00000000e+00],\n",
       "       [ 0.00000000e+00],\n",
       "       [ 0.00000000e+00],\n",
       "       [ 0.00000000e+00],\n",
       "       [ 0.00000000e+00],\n",
       "       [ 0.00000000e+00],\n",
       "       [ 0.00000000e+00],\n",
       "       [ 0.00000000e+00],\n",
       "       [ 0.00000000e+00],\n",
       "       [ 0.00000000e+00],\n",
       "       [ 0.00000000e+00],\n",
       "       [ 0.00000000e+00],\n",
       "       [ 0.00000000e+00],\n",
       "       [ 0.00000000e+00],\n",
       "       [ 0.00000000e+00],\n",
       "       [ 0.00000000e+00],\n",
       "       [ 0.00000000e+00],\n",
       "       [ 0.00000000e+00],\n",
       "       [ 0.00000000e+00],\n",
       "       [ 0.00000000e+00],\n",
       "       [ 0.00000000e+00],\n",
       "       [ 0.00000000e+00],\n",
       "       [ 0.00000000e+00],\n",
       "       [ 0.00000000e+00],\n",
       "       [ 0.00000000e+00],\n",
       "       [ 0.00000000e+00],\n",
       "       [ 0.00000000e+00],\n",
       "       [ 0.00000000e+00],\n",
       "       [ 0.00000000e+00],\n",
       "       [ 0.00000000e+00],\n",
       "       [ 0.00000000e+00],\n",
       "       [ 0.00000000e+00],\n",
       "       [ 0.00000000e+00],\n",
       "       [ 0.00000000e+00],\n",
       "       [ 0.00000000e+00],\n",
       "       [ 0.00000000e+00],\n",
       "       [ 0.00000000e+00],\n",
       "       [ 0.00000000e+00],\n",
       "       [ 0.00000000e+00],\n",
       "       [ 0.00000000e+00],\n",
       "       [ 0.00000000e+00],\n",
       "       [ 0.00000000e+00],\n",
       "       [ 0.00000000e+00],\n",
       "       [ 0.00000000e+00],\n",
       "       [ 0.00000000e+00],\n",
       "       [ 0.00000000e+00],\n",
       "       [ 0.00000000e+00],\n",
       "       [ 0.00000000e+00],\n",
       "       [ 0.00000000e+00],\n",
       "       [ 0.00000000e+00]])"
      ]
     },
     "execution_count": 193,
     "metadata": {},
     "output_type": "execute_result"
    }
   ],
   "source": [
    "x"
   ]
  },
  {
   "cell_type": "code",
   "execution_count": 44,
   "metadata": {},
   "outputs": [
    {
     "data": {
      "text/plain": [
       "OrderedDict([(1,\n",
       "              Object(name='diningtable', centroidx=199, centroidy=299, startX=0, startY=162, endX=398, endY=300, dissapeared=0)),\n",
       "             (2,\n",
       "              Object(name='bottle', centroidx=87, centroidy=181, startX=23, startY=48, endX=129, endY=267, dissapeared=0))])"
      ]
     },
     "execution_count": 44,
     "metadata": {},
     "output_type": "execute_result"
    }
   ],
   "source": [
    "old_objects"
   ]
  },
  {
   "cell_type": "code",
   "execution_count": null,
   "metadata": {},
   "outputs": [],
   "source": [
    "old_objects"
   ]
  },
  {
   "cell_type": "code",
   "execution_count": null,
   "metadata": {},
   "outputs": [],
   "source": [
    "l = collections.OrderedDict()"
   ]
  },
  {
   "cell_type": "code",
   "execution_count": null,
   "metadata": {},
   "outputs": [],
   "source": [
    "l[0] = \"fudger\"\n",
    "l[10] = \"flabajaba\""
   ]
  },
  {
   "cell_type": "code",
   "execution_count": null,
   "metadata": {},
   "outputs": [],
   "source": [
    "l.get(0)"
   ]
  },
  {
   "cell_type": "code",
   "execution_count": null,
   "metadata": {},
   "outputs": [],
   "source": [
    "for x in l:\n",
    "    print(x)\n",
    "    print(l[x])"
   ]
  },
  {
   "cell_type": "code",
   "execution_count": null,
   "metadata": {},
   "outputs": [],
   "source": []
  }
 ],
 "metadata": {
  "kernelspec": {
   "display_name": "Python 3",
   "language": "python",
   "name": "python3"
  },
  "language_info": {
   "codemirror_mode": {
    "name": "ipython",
    "version": 3
   },
   "file_extension": ".py",
   "mimetype": "text/x-python",
   "name": "python",
   "nbconvert_exporter": "python",
   "pygments_lexer": "ipython3",
   "version": "3.8.4"
  }
 },
 "nbformat": 4,
 "nbformat_minor": 4
}
