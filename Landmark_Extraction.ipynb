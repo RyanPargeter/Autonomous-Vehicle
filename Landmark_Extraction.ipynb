{
 "cells": [
  {
   "cell_type": "code",
   "execution_count": 12,
   "metadata": {},
   "outputs": [],
   "source": [
    "import numpy as np\n",
    "import cv2 as cv\n",
    "from matplotlib import pyplot as plt\n",
    "import open3d as o3d \n",
    "from mpl_toolkits import mplot3d\n",
    "\n",
    "ply_header = '''ply\n",
    "format ascii 1.0\n",
    "element vertex %(vert_num)d\n",
    "property float x\n",
    "property float y\n",
    "property float z\n",
    "property uchar red\n",
    "property uchar green\n",
    "property uchar blue\n",
    "end_header\n",
    "'''\n",
    "\n",
    "img = cv.imread('images/baggage_claim.jpg')\n",
    "gray= cv.cvtColor(img,cv.COLOR_BGR2GRAY)\n"
   ]
  },
  {
   "cell_type": "code",
   "execution_count": null,
   "metadata": {},
   "outputs": [],
   "source": [
    "sift = cv.xfeatures2d.SIFT_create()\n"
   ]
  },
  {
   "cell_type": "code",
   "execution_count": null,
   "metadata": {},
   "outputs": [],
   "source": [
    "kp = sift.detect(gray,None)\n",
    "img=cv.drawKeypoints(gray,kp,img)\n",
    "plt.imshow(img);\n",
    "plt.show()"
   ]
  },
  {
   "cell_type": "code",
   "execution_count": null,
   "metadata": {},
   "outputs": [],
   "source": [
    "def write_ply(fn, verts, colors):\n",
    "    verts = verts.reshape(-1, 3)\n",
    "    colors = colors.reshape(-1, 3)\n",
    "    verts = np.hstack([verts, colors])\n",
    "    with open(fn, 'wb') as f:\n",
    "        f.write((ply_header % dict(vert_num=len(verts))).encode('utf-8'))\n",
    "        np.savetxt(f, verts, fmt='%f %f %f %d %d %d ')"
   ]
  },
  {
   "cell_type": "code",
   "execution_count": null,
   "metadata": {},
   "outputs": [],
   "source": [
    "\n",
    "\n",
    "# disparity range is tuned for 'aloe' image pair\n",
    "window_size = 3\n",
    "min_disp = 16\n",
    "num_disp = 112-min_disp\n",
    "# stereo = cv.StereoSGBM_create(minDisparity = min_disp,\n",
    "#     numDisparities = num_disp,\n",
    "#     blockSize = 16,\n",
    "#     P1 = 8*3*window_size**2,\n",
    "#     P2 = 32*3*window_size**2,\n",
    "#     disp12MaxDiff = 1,\n",
    "#     uniquenessRatio = 10,\n",
    "#     speckleWindowSize = 100,\n",
    "#     speckleRange = 32\n",
    "# )\n",
    "\n",
    "\n",
    "\n",
    "print('computing disparity...')\n",
    "#disp = stereo.compute(imgL, imgR).astype(np.float32) / 16.0\n",
    "\n",
    "print('generating 3d point cloud...',)\n",
    "h, w = imgL.shape[:2]\n",
    "f = 0.8*w                          # guess for focal length\n",
    "Q = np.float32([[1, 0, 0, -0.5*w],\n",
    "                [0,-1, 0,  0.5*h], # turn points 180 deg around x-axis,\n",
    "                [0, 0, 0,     -f], # so that y-axis looks up\n",
    "                [0, 0, 1,      0]])\n",
    "points = cv.reprojectImageTo3D(disp, Q)\n",
    "colors = cv.cvtColor(imgL, cv.COLOR_BGR2RGB)\n",
    "mask = disp > disp.min()\n",
    "out_points = points[mask]\n",
    "out_colors = colors[mask]\n",
    "out_fn = 'out.ply'\n",
    "write_ply(out_fn, out_points, out_colors)\n",
    "print('%s saved' % out_fn)\n",
    "\n",
    "cv.imshow('left', imgL)\n",
    "cv.imshow('disparity', (disp-min_disp)/num_disp)\n",
    "cv.waitKey()\n",
    "\n",
    "print('Done')\n",
    "\n",
    "\n",
    "# if __name__ == '__main__':\n",
    "#     print(__doc__)\n",
    "#     main()\n",
    "cv.destroyAllWindows()"
   ]
  },
  {
   "cell_type": "code",
   "execution_count": 13,
   "metadata": {},
   "outputs": [],
   "source": [
    "imgL = cv.imread('images/leftStereo.jpg') # downscale images for faster processing\n",
    "imgR = cv.imread('images/rightStereo.jpg')"
   ]
  },
  {
   "cell_type": "code",
   "execution_count": 15,
   "metadata": {},
   "outputs": [],
   "source": [
    "stereo = cv.StereoBM_create(numDisparities=16, blockSize=15)\n",
    "frame0_new = cv.cvtColor(imgL, cv.COLOR_BGR2GRAY)\n",
    "frame1_new = cv.cvtColor(imgR, cv.COLOR_BGR2GRAY)\n",
    "\n",
    "disp = stereo.compute(frame0_new,frame1_new)\n",
    "h, w = imgL.shape[:2]\n",
    "f = 0.8*w                          # guess for focal length\n"
   ]
  },
  {
   "cell_type": "code",
   "execution_count": null,
   "metadata": {},
   "outputs": [],
   "source": [
    "real_X = np.zeros(disp.shape)\n",
    "real_Y = np.zeros(disp.shape)\n",
    "for x in range(len(disp[0])):\n",
    "    for y in range(len(disp[1])):\n",
    "        real_X[x,y] = x * disp[x,y] / f\n",
    "        real_Y[x,y] = y * disp[x,y] / f\n",
    "\n",
    "        \n",
    "        "
   ]
  },
  {
   "cell_type": "code",
   "execution_count": 16,
   "metadata": {},
   "outputs": [],
   "source": [
    "globalCoords = np.zeros([disp.shape[0] * disp.shape[1], 3])\n",
    "\n",
    "for x in range(len(disp[0])):\n",
    "    for y in range(len(disp[1])):\n",
    "        globalCoords[x*y, 0] = x * disp[x,y] / f\n",
    "        globalCoords[x*y, 1] = y * disp[x,y] / f\n",
    "        globalCoords[x*y, 2] = disp[x,y]"
   ]
  },
  {
   "cell_type": "code",
   "execution_count": 18,
   "metadata": {},
   "outputs": [
    {
     "data": {
      "text/plain": [
       "<matplotlib.image.AxesImage at 0x26809056f08>"
      ]
     },
     "execution_count": 18,
     "metadata": {},
     "output_type": "execute_result"
    },
    {
     "data": {
      "image/png": "[encoded data removed]",
      "text/plain": [
       "<Figure size 432x288 with 1 Axes>"
      ]
     },
     "metadata": {
      "needs_background": "light"
     },
     "output_type": "display_data"
    }
   ],
   "source": [
    "plt.imshow(globalCoords)"
   ]
  },
  {
   "cell_type": "code",
   "execution_count": null,
   "metadata": {},
   "outputs": [],
   "source": []
  }
 ],
 "metadata": {
  "kernelspec": {
   "display_name": "Python 3",
   "language": "python",
   "name": "python3"
  },
  "language_info": {
   "codemirror_mode": {
    "name": "ipython",
    "version": 3
   },
   "file_extension": ".py",
   "mimetype": "text/x-python",
   "name": "python",
   "nbconvert_exporter": "python",
   "pygments_lexer": "ipython3",
   "version": "3.7.5"
  }
 },
 "nbformat": 4,
 "nbformat_minor": 4
}
