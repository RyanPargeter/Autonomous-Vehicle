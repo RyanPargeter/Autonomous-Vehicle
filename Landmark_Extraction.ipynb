{
 "cells": [
  {
   "cell_type": "code",
   "execution_count": 1,
   "metadata": {},
   "outputs": [],
   "source": [
    "import numpy as np\n",
    "import cv2 as cv\n",
    "from matplotlib import pyplot as plt\n",
    "import open3d as o3d \n",
    "from mpl_toolkits import mplot3d\n",
    "\n",
    "from sklearn.neighbors import KDTree \n",
    "\n"
   ]
  },
  {
   "cell_type": "code",
   "execution_count": 2,
   "metadata": {},
   "outputs": [],
   "source": [
    "imgL = cv.imread('images/leftStereo.jpg') # downscale images for faster processing\n",
    "imgR = cv.imread('images/rightStereo.jpg')\n",
    "gray= cv.cvtColor(imgL,cv.COLOR_BGR2GRAY)\n"
   ]
  },
  {
   "cell_type": "code",
   "execution_count": 3,
   "metadata": {},
   "outputs": [],
   "source": [
    "stereo = cv.StereoBM_create(numDisparities=16, blockSize=15)\n",
    "frame0_new = cv.cvtColor(imgL, cv.COLOR_BGR2GRAY)\n",
    "frame1_new = cv.cvtColor(imgR, cv.COLOR_BGR2GRAY)\n",
    "\n",
    "disp = stereo.compute(frame0_new,frame1_new)\n",
    "h, w = imgL.shape[:2]\n",
    "f = 0.8*w                          # guess for focal length\n"
   ]
  },
  {
   "cell_type": "code",
   "execution_count": 4,
   "metadata": {},
   "outputs": [],
   "source": [
    "sift = cv.xfeatures2d.SIFT_create()\n"
   ]
  },
  {
   "cell_type": "code",
   "execution_count": 5,
   "metadata": {},
   "outputs": [
    {
     "data": {
      "image/png": "[encoded data removed]",
      "text/plain": [
       "<Figure size 432x288 with 1 Axes>"
      ]
     },
     "metadata": {
      "needs_background": "light"
     },
     "output_type": "display_data"
    }
   ],
   "source": [
    "kp = sift.detect(gray,None)\n",
    "img=cv.drawKeypoints(gray,kp,imgL)\n",
    "plt.imshow(disp, 'gray');\n",
    "plt.show()"
   ]
  },
  {
   "cell_type": "code",
   "execution_count": 6,
   "metadata": {},
   "outputs": [],
   "source": [
    "h, w = disp.shape\n",
    "Q = np.float32([[1, 0,  0, w / 2],\n",
    "                [0, -1,  0,  h / 2],  # turn points 180 deg around x-axis,\n",
    "                [0, 0, f,  0],  # so that y-axis looks up\n",
    "                [0, 0,  0,  1]])\n",
    "\n",
    "real_points = cv.reprojectImageTo3D(disp, Q)\n",
    "mask = disp > disp.min()\n",
    "points = real_points[mask]"
   ]
  },
  {
   "cell_type": "code",
   "execution_count": 7,
   "metadata": {},
   "outputs": [],
   "source": [
    "\n",
    "y_tree = KDTree(points)\n",
    "y_index_of_closest = y_tree.query(points, k = 1, return_distance = False)"
   ]
  },
  {
   "cell_type": "code",
   "execution_count": 14,
   "metadata": {},
   "outputs": [
    {
     "data": {
      "text/plain": [
       "0"
      ]
     },
     "execution_count": 14,
     "metadata": {},
     "output_type": "execute_result"
    }
   ],
   "source": [
    "y_index_of_closest[0,0]"
   ]
  },
  {
   "cell_type": "code",
   "execution_count": null,
   "metadata": {},
   "outputs": [],
   "source": [
    "pts = [k.pt for k in kp]\n",
    "realWorldSift = [[],[],[]]\n",
    "for point in range(len(pts)):\n",
    "    y = int(pts[point][0])\n",
    "    x = int(pts[point][1])\n",
    "    Z = disp[x,y]\n",
    "            \n",
    "    realWorldSift[0].append(x * Z / f)\n",
    "    realWorldSift[1].append(y * Z / f)\n",
    "    realWorldSift[2].append(Z)\n",
    "\n",
    "    "
   ]
  },
  {
   "cell_type": "code",
   "execution_count": null,
   "metadata": {},
   "outputs": [],
   "source": [
    "real_X = np.zeros(disp.shape)\n",
    "real_Y = np.zeros(disp.shape)\n",
    "for x in range(len(disp[0])):\n",
    "    for y in range(len(disp[1])):\n",
    "        real_X[x,y] = x * disp[x,y] / f\n",
    "        real_Y[x,y] = y * disp[x,y] / f\n",
    "\n",
    "        \n",
    "        "
   ]
  },
  {
   "cell_type": "code",
   "execution_count": null,
   "metadata": {},
   "outputs": [],
   "source": [
    "globalCoords = np.zeros([disp.shape[0] * disp.shape[1], 3])\n",
    "\n",
    "for x in range(len(disp[0])):\n",
    "    for y in range(len(disp[1])):\n",
    "        globalCoords[x*y, 0] = x * disp[x,y] / f\n",
    "        globalCoords[x*y, 1] = y * disp[x,y] / f\n",
    "        globalCoords[x*y, 2] = disp[x,y]"
   ]
  },
  {
   "cell_type": "code",
   "execution_count": null,
   "metadata": {},
   "outputs": [],
   "source": [
    "plt.scatter(x=real_X, \n",
    "            y=real_Y, \n",
    "            )\n",
    "plt.title('Global Pointcloud')\n",
    "plt.show(block=False)\n",
    "    "
   ]
  },
  {
   "cell_type": "code",
   "execution_count": null,
   "metadata": {},
   "outputs": [],
   "source": [
    "plt.scatter(x=globalCoords[:,0], \n",
    "            y=globalCoords[:,1], \n",
    "            )\n",
    "plt.title('Global Pointcloud')\n",
    "plt.show(block=False)"
   ]
  }
 ],
 "metadata": {
  "kernelspec": {
   "display_name": "Python 3",
   "language": "python",
   "name": "python3"
  },
  "language_info": {
   "codemirror_mode": {
    "name": "ipython",
    "version": 3
   },
   "file_extension": ".py",
   "mimetype": "text/x-python",
   "name": "python",
   "nbconvert_exporter": "python",
   "pygments_lexer": "ipython3",
   "version": "3.7.5"
  }
 },
 "nbformat": 4,
 "nbformat_minor": 4
}
